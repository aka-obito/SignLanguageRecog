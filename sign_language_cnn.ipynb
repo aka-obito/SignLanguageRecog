{
  "metadata": {
    "kernelspec": {
      "display_name": "Python 3",
      "name": "python3"
    },
    "language_info": {
      "name": "python",
      "version": "3.7.10",
      "mimetype": "text/x-python",
      "codemirror_mode": {
        "name": "ipython",
        "version": 3
      },
      "pygments_lexer": "ipython3",
      "nbconvert_exporter": "python",
      "file_extension": ".py"
    },
    "colab": {
      "provenance": [],
      "gpuType": "T4"
    },
    "accelerator": "GPU"
  },
  "nbformat_minor": 0,
  "nbformat": 4,
  "cells": [
    {
      "cell_type": "markdown",
      "source": [
        "# Sign Language Classification"
      ],
      "metadata": {
        "id": "bvapXNuXyyOj"
      }
    },
    {
      "cell_type": "markdown",
      "source": [
        "Pictures with ASL (American Sign Language) sign language symbols are given. It is necessary to build a machine learning model that could correctly recognize sign language symbols and classify them into certain groups."
      ],
      "metadata": {
        "id": "QAIB9AxdyyOl"
      }
    },
    {
      "cell_type": "code",
      "source": [
        "import os\n",
        "import numpy as np\n",
        "import pandas as pd\n",
        "import matplotlib.pyplot as plt\n",
        "import seaborn as sns\n",
        "\n",
        "import tensorflow as tf\n",
        "import keras\n",
        "from keras.models import Sequential\n",
        "from keras.layers import Dense, Conv2D , MaxPool2D , Flatten , Dropout , BatchNormalization\n",
        "from tensorflow.keras.preprocessing.image import ImageDataGenerator\n",
        "from keras.callbacks import ReduceLROnPlateau\n",
        "\n",
        "from sklearn.preprocessing import LabelBinarizer\n",
        "from sklearn.model_selection import train_test_split\n",
        "from sklearn.metrics import classification_report,confusion_matrix\n"
      ],
      "metadata": {
        "execution": {
          "iopub.status.busy": "2021-11-27T18:15:08.508496Z",
          "iopub.execute_input": "2021-11-27T18:15:08.508900Z",
          "iopub.status.idle": "2021-11-27T18:15:15.870432Z",
          "shell.execute_reply.started": "2021-11-27T18:15:08.508809Z",
          "shell.execute_reply": "2021-11-27T18:15:15.869462Z"
        },
        "trusted": true,
        "id": "YNWbCTX3yyOm"
      },
      "execution_count": 2,
      "outputs": []
    },
    {
      "cell_type": "code",
      "source": [
        "import kagglehub\n",
        "\n",
        "# Download latest version\n",
        "path = kagglehub.dataset_download(\"datamunge/sign-language-mnist\")\n",
        "\n",
        "print(\"Path to dataset files:\", path)"
      ],
      "metadata": {
        "colab": {
          "base_uri": "https://localhost:8080/"
        },
        "id": "Z9L2cB1OzKQ4",
        "outputId": "5a201d41-639b-4699-c400-b21e50388028"
      },
      "execution_count": 3,
      "outputs": [
        {
          "output_type": "stream",
          "name": "stdout",
          "text": [
            "Warning: Looks like you're using an outdated `kagglehub` version, please consider updating (latest version: 0.3.5)\n",
            "Downloading from https://www.kaggle.com/api/v1/datasets/download/datamunge/sign-language-mnist?dataset_version_number=1...\n"
          ]
        },
        {
          "output_type": "stream",
          "name": "stderr",
          "text": [
            "100%|██████████| 62.6M/62.6M [00:00<00:00, 74.7MB/s]"
          ]
        },
        {
          "output_type": "stream",
          "name": "stdout",
          "text": [
            "Extracting files...\n"
          ]
        },
        {
          "output_type": "stream",
          "name": "stderr",
          "text": [
            "\n"
          ]
        },
        {
          "output_type": "stream",
          "name": "stdout",
          "text": [
            "Path to dataset files: /root/.cache/kagglehub/datasets/datamunge/sign-language-mnist/versions/1\n"
          ]
        }
      ]
    },
    {
      "cell_type": "code",
      "source": [
        "path = \"/root/.cache/kagglehub/datasets/datamunge/sign-language-mnist/versions/1\""
      ],
      "metadata": {
        "id": "WpUEam1fzfhT"
      },
      "execution_count": 4,
      "outputs": []
    },
    {
      "cell_type": "code",
      "source": [
        "!ls \"{path}\""
      ],
      "metadata": {
        "colab": {
          "base_uri": "https://localhost:8080/"
        },
        "id": "3Jq-HhJtztC1",
        "outputId": "a10e1906-5025-4e94-82d5-e92c673a4921"
      },
      "execution_count": 9,
      "outputs": [
        {
          "output_type": "stream",
          "name": "stdout",
          "text": [
            "american_sign_language.PNG  amer_sign3.png   sign_mnist_test.csv  sign_mnist_train.csv\n",
            "amer_sign2.png\t\t    sign_mnist_test  sign_mnist_train\n"
          ]
        }
      ]
    },
    {
      "cell_type": "code",
      "source": [
        "train_df = pd.read_csv(f\"{path}/sign_mnist_train.csv\")\n",
        "test_df = pd.read_csv(f\"{path}/sign_mnist_test.csv\")\n"
      ],
      "metadata": {
        "execution": {
          "iopub.status.busy": "2021-11-27T18:16:48.331062Z",
          "iopub.execute_input": "2021-11-27T18:16:48.331361Z",
          "iopub.status.idle": "2021-11-27T18:16:53.457436Z",
          "shell.execute_reply.started": "2021-11-27T18:16:48.331329Z",
          "shell.execute_reply": "2021-11-27T18:16:53.456486Z"
        },
        "trusted": true,
        "id": "MzW8AybPyyOn"
      },
      "execution_count": 11,
      "outputs": []
    },
    {
      "cell_type": "code",
      "source": [
        "y_train = train_df['label']\n",
        "y_test = test_df['label']\n",
        "del train_df['label']\n",
        "del test_df['label']"
      ],
      "metadata": {
        "execution": {
          "iopub.status.busy": "2021-11-27T18:16:53.458887Z",
          "iopub.execute_input": "2021-11-27T18:16:53.459144Z",
          "iopub.status.idle": "2021-11-27T18:16:53.481620Z",
          "shell.execute_reply.started": "2021-11-27T18:16:53.459112Z",
          "shell.execute_reply": "2021-11-27T18:16:53.480631Z"
        },
        "trusted": true,
        "id": "trVZikP3yyOn"
      },
      "execution_count": 12,
      "outputs": []
    },
    {
      "cell_type": "code",
      "source": [
        "from sklearn.preprocessing import LabelBinarizer\n",
        "label_binarizer = LabelBinarizer()\n",
        "y_train = label_binarizer.fit_transform(y_train)\n",
        "y_test = label_binarizer.fit_transform(y_test)"
      ],
      "metadata": {
        "execution": {
          "iopub.status.busy": "2021-11-27T18:17:00.466447Z",
          "iopub.execute_input": "2021-11-27T18:17:00.466767Z",
          "iopub.status.idle": "2021-11-27T18:17:00.656465Z",
          "shell.execute_reply.started": "2021-11-27T18:17:00.466736Z",
          "shell.execute_reply": "2021-11-27T18:17:00.655791Z"
        },
        "trusted": true,
        "id": "akX_9AbPyyOn"
      },
      "execution_count": 13,
      "outputs": []
    },
    {
      "cell_type": "code",
      "source": [
        "x_train = train_df.values\n",
        "x_test = test_df.values\n",
        "x_train = x_train / 255\n",
        "x_test = x_test / 255\n",
        "x_train = x_train.reshape(-1,28,28,1)\n",
        "x_test = x_test.reshape(-1,28,28,1)"
      ],
      "metadata": {
        "execution": {
          "iopub.status.busy": "2021-11-27T18:17:02.594658Z",
          "iopub.execute_input": "2021-11-27T18:17:02.594928Z",
          "iopub.status.idle": "2021-11-27T18:17:02.869343Z",
          "shell.execute_reply.started": "2021-11-27T18:17:02.594900Z",
          "shell.execute_reply": "2021-11-27T18:17:02.868553Z"
        },
        "trusted": true,
        "id": "XPv4jS94yyOo"
      },
      "execution_count": 14,
      "outputs": []
    },
    {
      "cell_type": "code",
      "source": [
        "f, ax = plt.subplots(2,5)\n",
        "f.set_size_inches(10, 10)\n",
        "k = 0\n",
        "for i in range(2):\n",
        "    for j in range(5):\n",
        "        ax[i,j].imshow(x_train[k].reshape(28, 28) , cmap = \"gray\")\n",
        "        k += 1\n",
        "    plt.tight_layout()"
      ],
      "metadata": {
        "execution": {
          "iopub.status.busy": "2021-11-27T18:17:06.166457Z",
          "iopub.execute_input": "2021-11-27T18:17:06.166887Z",
          "iopub.status.idle": "2021-11-27T18:17:07.549342Z",
          "shell.execute_reply.started": "2021-11-27T18:17:06.166856Z",
          "shell.execute_reply": "2021-11-27T18:17:07.548487Z"
        },
        "trusted": true,
        "colab": {
          "base_uri": "https://localhost:8080/",
          "height": 541
        },
        "id": "b5ctJvnayyOo",
        "outputId": "a377ee73-bd20-46f2-f5d5-f5f89333f786"
      },
      "execution_count": 15,
      "outputs": [
        {
          "output_type": "display_data",
          "data": {
            "text/plain": [
              "<Figure size 1000x1000 with 10 Axes>"
            ],
            "image/png": "[encoded data removed]"
          },
          "metadata": {}
        }
      ]
    },
    {
      "cell_type": "markdown",
      "source": [
        "# Building a Convolutional Neural Network"
      ],
      "metadata": {
        "id": "j4GDzE6syyOo"
      }
    },
    {
      "cell_type": "markdown",
      "source": [
        "### 1. Construction of the simplest CNN architecture"
      ],
      "metadata": {
        "id": "PalL3zN_yyOo"
      }
    },
    {
      "cell_type": "code",
      "source": [
        "model = Sequential()\n",
        "model.add(Conv2D(64, (3,3), strides=1, padding='same', activation='relu', input_shape=(28,28,1)))\n",
        "model.add(BatchNormalization())\n",
        "model.add(Flatten())\n",
        "model.add(Dense(units = 512 , activation = 'relu'))\n",
        "model.add(Dense(units = 24 , activation = 'softmax'))\n",
        "model.compile(optimizer = 'adam' , loss = 'categorical_crossentropy' , metrics = ['accuracy'])"
      ],
      "metadata": {
        "execution": {
          "iopub.status.busy": "2021-11-27T18:17:15.364132Z",
          "iopub.execute_input": "2021-11-27T18:17:15.364736Z",
          "iopub.status.idle": "2021-11-27T18:17:15.552358Z",
          "shell.execute_reply.started": "2021-11-27T18:17:15.364697Z",
          "shell.execute_reply": "2021-11-27T18:17:15.551219Z"
        },
        "trusted": true,
        "colab": {
          "base_uri": "https://localhost:8080/"
        },
        "id": "h2ryPrNRyyOo",
        "outputId": "c6ac15c3-7548-4699-ef0a-dd31f42bc670"
      },
      "execution_count": 16,
      "outputs": [
        {
          "output_type": "stream",
          "name": "stderr",
          "text": [
            "/usr/local/lib/python3.10/dist-packages/keras/src/layers/convolutional/base_conv.py:107: UserWarning: Do not pass an `input_shape`/`input_dim` argument to a layer. When using Sequential models, prefer using an `Input(shape)` object as the first layer in the model instead.\n",
            "  super().__init__(activity_regularizer=activity_regularizer, **kwargs)\n"
          ]
        }
      ]
    },
    {
      "cell_type": "code",
      "source": [
        "model.summary()"
      ],
      "metadata": {
        "execution": {
          "iopub.status.busy": "2021-11-27T18:17:18.109440Z",
          "iopub.execute_input": "2021-11-27T18:17:18.109768Z",
          "iopub.status.idle": "2021-11-27T18:17:18.120252Z",
          "shell.execute_reply.started": "2021-11-27T18:17:18.109733Z",
          "shell.execute_reply": "2021-11-27T18:17:18.119295Z"
        },
        "trusted": true,
        "colab": {
          "base_uri": "https://localhost:8080/",
          "height": 305
        },
        "id": "nQ99gWrCyyOp",
        "outputId": "e7dc9aca-819e-44de-c5d9-0bfb80973287"
      },
      "execution_count": 17,
      "outputs": [
        {
          "output_type": "display_data",
          "data": {
            "text/plain": [
              "\u001b[1mModel: \"sequential\"\u001b[0m\n"
            ],
            "text/html": [
              "<pre style=\"white-space:pre;overflow-x:auto;line-height:normal;font-family:Menlo,'DejaVu Sans Mono',consolas,'Courier New',monospace\"><span style=\"font-weight: bold\">Model: \"sequential\"</span>\n",
              "</pre>\n"
            ]
          },
          "metadata": {}
        },
        {
          "output_type": "display_data",
          "data": {
            "text/plain": [
              "┏━━━━━━━━━━━━━━━━━━━━━━━━━━━━━━━━━━━━━━┳━━━━━━━━━━━━━━━━━━━━━━━━━━━━━┳━━━━━━━━━━━━━━━━━┓\n",
              "┃\u001b[1m \u001b[0m\u001b[1mLayer (type)                        \u001b[0m\u001b[1m \u001b[0m┃\u001b[1m \u001b[0m\u001b[1mOutput Shape               \u001b[0m\u001b[1m \u001b[0m┃\u001b[1m \u001b[0m\u001b[1m        Param #\u001b[0m\u001b[1m \u001b[0m┃\n",
              "┡━━━━━━━━━━━━━━━━━━━━━━━━━━━━━━━━━━━━━━╇━━━━━━━━━━━━━━━━━━━━━━━━━━━━━╇━━━━━━━━━━━━━━━━━┩\n",
              "│ conv2d (\u001b[38;5;33mConv2D\u001b[0m)                      │ (\u001b[38;5;45mNone\u001b[0m, \u001b[38;5;34m28\u001b[0m, \u001b[38;5;34m28\u001b[0m, \u001b[38;5;34m64\u001b[0m)          │             \u001b[38;5;34m640\u001b[0m │\n",
              "├──────────────────────────────────────┼─────────────────────────────┼─────────────────┤\n",
              "│ batch_normalization                  │ (\u001b[38;5;45mNone\u001b[0m, \u001b[38;5;34m28\u001b[0m, \u001b[38;5;34m28\u001b[0m, \u001b[38;5;34m64\u001b[0m)          │             \u001b[38;5;34m256\u001b[0m │\n",
              "│ (\u001b[38;5;33mBatchNormalization\u001b[0m)                 │                             │                 │\n",
              "├──────────────────────────────────────┼─────────────────────────────┼─────────────────┤\n",
              "│ flatten (\u001b[38;5;33mFlatten\u001b[0m)                    │ (\u001b[38;5;45mNone\u001b[0m, \u001b[38;5;34m50176\u001b[0m)               │               \u001b[38;5;34m0\u001b[0m │\n",
              "├──────────────────────────────────────┼─────────────────────────────┼─────────────────┤\n",
              "│ dense (\u001b[38;5;33mDense\u001b[0m)                        │ (\u001b[38;5;45mNone\u001b[0m, \u001b[38;5;34m512\u001b[0m)                 │      \u001b[38;5;34m25,690,624\u001b[0m │\n",
              "├──────────────────────────────────────┼─────────────────────────────┼─────────────────┤\n",
              "│ dense_1 (\u001b[38;5;33mDense\u001b[0m)                      │ (\u001b[38;5;45mNone\u001b[0m, \u001b[38;5;34m24\u001b[0m)                  │          \u001b[38;5;34m12,312\u001b[0m │\n",
              "└──────────────────────────────────────┴─────────────────────────────┴─────────────────┘\n"
            ],
            "text/html": [
              "<pre style=\"white-space:pre;overflow-x:auto;line-height:normal;font-family:Menlo,'DejaVu Sans Mono',consolas,'Courier New',monospace\">┏━━━━━━━━━━━━━━━━━━━━━━━━━━━━━━━━━━━━━━┳━━━━━━━━━━━━━━━━━━━━━━━━━━━━━┳━━━━━━━━━━━━━━━━━┓\n",
              "┃<span style=\"font-weight: bold\"> Layer (type)                         </span>┃<span style=\"font-weight: bold\"> Output Shape                </span>┃<span style=\"font-weight: bold\">         Param # </span>┃\n",
              "┡━━━━━━━━━━━━━━━━━━━━━━━━━━━━━━━━━━━━━━╇━━━━━━━━━━━━━━━━━━━━━━━━━━━━━╇━━━━━━━━━━━━━━━━━┩\n",
              "│ conv2d (<span style=\"color: #0087ff; text-decoration-color: #0087ff\">Conv2D</span>)                      │ (<span style=\"color: #00d7ff; text-decoration-color: #00d7ff\">None</span>, <span style=\"color: #00af00; text-decoration-color: #00af00\">28</span>, <span style=\"color: #00af00; text-decoration-color: #00af00\">28</span>, <span style=\"color: #00af00; text-decoration-color: #00af00\">64</span>)          │             <span style=\"color: #00af00; text-decoration-color: #00af00\">640</span> │\n",
              "├──────────────────────────────────────┼─────────────────────────────┼─────────────────┤\n",
              "│ batch_normalization                  │ (<span style=\"color: #00d7ff; text-decoration-color: #00d7ff\">None</span>, <span style=\"color: #00af00; text-decoration-color: #00af00\">28</span>, <span style=\"color: #00af00; text-decoration-color: #00af00\">28</span>, <span style=\"color: #00af00; text-decoration-color: #00af00\">64</span>)          │             <span style=\"color: #00af00; text-decoration-color: #00af00\">256</span> │\n",
              "│ (<span style=\"color: #0087ff; text-decoration-color: #0087ff\">BatchNormalization</span>)                 │                             │                 │\n",
              "├──────────────────────────────────────┼─────────────────────────────┼─────────────────┤\n",
              "│ flatten (<span style=\"color: #0087ff; text-decoration-color: #0087ff\">Flatten</span>)                    │ (<span style=\"color: #00d7ff; text-decoration-color: #00d7ff\">None</span>, <span style=\"color: #00af00; text-decoration-color: #00af00\">50176</span>)               │               <span style=\"color: #00af00; text-decoration-color: #00af00\">0</span> │\n",
              "├──────────────────────────────────────┼─────────────────────────────┼─────────────────┤\n",
              "│ dense (<span style=\"color: #0087ff; text-decoration-color: #0087ff\">Dense</span>)                        │ (<span style=\"color: #00d7ff; text-decoration-color: #00d7ff\">None</span>, <span style=\"color: #00af00; text-decoration-color: #00af00\">512</span>)                 │      <span style=\"color: #00af00; text-decoration-color: #00af00\">25,690,624</span> │\n",
              "├──────────────────────────────────────┼─────────────────────────────┼─────────────────┤\n",
              "│ dense_1 (<span style=\"color: #0087ff; text-decoration-color: #0087ff\">Dense</span>)                      │ (<span style=\"color: #00d7ff; text-decoration-color: #00d7ff\">None</span>, <span style=\"color: #00af00; text-decoration-color: #00af00\">24</span>)                  │          <span style=\"color: #00af00; text-decoration-color: #00af00\">12,312</span> │\n",
              "└──────────────────────────────────────┴─────────────────────────────┴─────────────────┘\n",
              "</pre>\n"
            ]
          },
          "metadata": {}
        },
        {
          "output_type": "display_data",
          "data": {
            "text/plain": [
              "\u001b[1m Total params: \u001b[0m\u001b[38;5;34m25,703,832\u001b[0m (98.05 MB)\n"
            ],
            "text/html": [
              "<pre style=\"white-space:pre;overflow-x:auto;line-height:normal;font-family:Menlo,'DejaVu Sans Mono',consolas,'Courier New',monospace\"><span style=\"font-weight: bold\"> Total params: </span><span style=\"color: #00af00; text-decoration-color: #00af00\">25,703,832</span> (98.05 MB)\n",
              "</pre>\n"
            ]
          },
          "metadata": {}
        },
        {
          "output_type": "display_data",
          "data": {
            "text/plain": [
              "\u001b[1m Trainable params: \u001b[0m\u001b[38;5;34m25,703,704\u001b[0m (98.05 MB)\n"
            ],
            "text/html": [
              "<pre style=\"white-space:pre;overflow-x:auto;line-height:normal;font-family:Menlo,'DejaVu Sans Mono',consolas,'Courier New',monospace\"><span style=\"font-weight: bold\"> Trainable params: </span><span style=\"color: #00af00; text-decoration-color: #00af00\">25,703,704</span> (98.05 MB)\n",
              "</pre>\n"
            ]
          },
          "metadata": {}
        },
        {
          "output_type": "display_data",
          "data": {
            "text/plain": [
              "\u001b[1m Non-trainable params: \u001b[0m\u001b[38;5;34m128\u001b[0m (512.00 B)\n"
            ],
            "text/html": [
              "<pre style=\"white-space:pre;overflow-x:auto;line-height:normal;font-family:Menlo,'DejaVu Sans Mono',consolas,'Courier New',monospace\"><span style=\"font-weight: bold\"> Non-trainable params: </span><span style=\"color: #00af00; text-decoration-color: #00af00\">128</span> (512.00 B)\n",
              "</pre>\n"
            ]
          },
          "metadata": {}
        }
      ]
    },
    {
      "cell_type": "code",
      "source": [
        "# To gradually reduce the learning rate\n",
        "learning_rate_reduction = ReduceLROnPlateau(\n",
        "    monitor='val_accuracy', # how the model's performance is evaluated\n",
        "    patience=2, # number of epochs without improvement\n",
        "    verbose=1, # verbosity level (output messages)\n",
        "    factor=0.5, # reduction factor for the learning rate\n",
        "    min_lr=0.00001 # lower limit for the learning rate\n",
        ")\n"
      ],
      "metadata": {
        "execution": {
          "iopub.status.busy": "2021-11-27T18:17:20.650566Z",
          "iopub.execute_input": "2021-11-27T18:17:20.650864Z",
          "iopub.status.idle": "2021-11-27T18:17:20.657482Z",
          "shell.execute_reply.started": "2021-11-27T18:17:20.650830Z",
          "shell.execute_reply": "2021-11-27T18:17:20.656742Z"
        },
        "trusted": true,
        "id": "7hcEEtH8yyOp"
      },
      "execution_count": 19,
      "outputs": []
    },
    {
      "cell_type": "code",
      "source": [
        "fitted_values1 = model.fit(x_train, y_train,\n",
        "                          batch_size=128,\n",
        "                          epochs = 15,\n",
        "                          validation_data = (x_test, y_test),\n",
        "                          callbacks = [learning_rate_reduction])"
      ],
      "metadata": {
        "execution": {
          "iopub.status.busy": "2021-11-27T18:17:26.166975Z",
          "iopub.execute_input": "2021-11-27T18:17:26.167860Z",
          "iopub.status.idle": "2021-11-27T18:21:57.214174Z",
          "shell.execute_reply.started": "2021-11-27T18:17:26.167817Z",
          "shell.execute_reply": "2021-11-27T18:21:57.213474Z"
        },
        "trusted": true,
        "colab": {
          "base_uri": "https://localhost:8080/"
        },
        "id": "czGOgqVEyyOp",
        "outputId": "ccac83c6-ef3f-4bdf-b60a-d53c780ae1b7"
      },
      "execution_count": 22,
      "outputs": [
        {
          "output_type": "stream",
          "name": "stdout",
          "text": [
            "Epoch 1/15\n",
            "\u001b[1m215/215\u001b[0m \u001b[32m━━━━━━━━━━━━━━━━━━━━\u001b[0m\u001b[37m\u001b[0m \u001b[1m3s\u001b[0m 13ms/step - accuracy: 1.0000 - loss: 3.5655e-05 - val_accuracy: 0.7836 - val_loss: 1.2539 - learning_rate: 0.0010\n",
            "Epoch 2/15\n",
            "\u001b[1m215/215\u001b[0m \u001b[32m━━━━━━━━━━━━━━━━━━━━\u001b[0m\u001b[37m\u001b[0m \u001b[1m3s\u001b[0m 12ms/step - accuracy: 1.0000 - loss: 2.3737e-05 - val_accuracy: 0.7860 - val_loss: 1.2878 - learning_rate: 0.0010\n",
            "Epoch 3/15\n",
            "\u001b[1m215/215\u001b[0m \u001b[32m━━━━━━━━━━━━━━━━━━━━\u001b[0m\u001b[37m\u001b[0m \u001b[1m3s\u001b[0m 12ms/step - accuracy: 1.0000 - loss: 1.5312e-05 - val_accuracy: 0.7863 - val_loss: 1.2973 - learning_rate: 0.0010\n",
            "Epoch 4/15\n",
            "\u001b[1m215/215\u001b[0m \u001b[32m━━━━━━━━━━━━━━━━━━━━\u001b[0m\u001b[37m\u001b[0m \u001b[1m5s\u001b[0m 13ms/step - accuracy: 1.0000 - loss: 1.0895e-05 - val_accuracy: 0.7895 - val_loss: 1.3159 - learning_rate: 0.0010\n",
            "Epoch 5/15\n",
            "\u001b[1m215/215\u001b[0m \u001b[32m━━━━━━━━━━━━━━━━━━━━\u001b[0m\u001b[37m\u001b[0m \u001b[1m3s\u001b[0m 12ms/step - accuracy: 1.0000 - loss: 8.3182e-06 - val_accuracy: 0.7914 - val_loss: 1.3252 - learning_rate: 0.0010\n",
            "Epoch 6/15\n",
            "\u001b[1m215/215\u001b[0m \u001b[32m━━━━━━━━━━━━━━━━━━━━\u001b[0m\u001b[37m\u001b[0m \u001b[1m3s\u001b[0m 13ms/step - accuracy: 1.0000 - loss: 6.1709e-06 - val_accuracy: 0.7885 - val_loss: 1.3536 - learning_rate: 0.0010\n",
            "Epoch 7/15\n",
            "\u001b[1m211/215\u001b[0m \u001b[32m━━━━━━━━━━━━━━━━━━━\u001b[0m\u001b[37m━\u001b[0m \u001b[1m0s\u001b[0m 11ms/step - accuracy: 1.0000 - loss: 4.8191e-06\n",
            "Epoch 7: ReduceLROnPlateau reducing learning rate to 0.0005000000237487257.\n",
            "\u001b[1m215/215\u001b[0m \u001b[32m━━━━━━━━━━━━━━━━━━━━\u001b[0m\u001b[37m\u001b[0m \u001b[1m3s\u001b[0m 12ms/step - accuracy: 1.0000 - loss: 4.8174e-06 - val_accuracy: 0.7875 - val_loss: 1.3611 - learning_rate: 0.0010\n",
            "Epoch 8/15\n",
            "\u001b[1m215/215\u001b[0m \u001b[32m━━━━━━━━━━━━━━━━━━━━\u001b[0m\u001b[37m\u001b[0m \u001b[1m3s\u001b[0m 13ms/step - accuracy: 1.0000 - loss: 3.9368e-06 - val_accuracy: 0.7913 - val_loss: 1.3680 - learning_rate: 5.0000e-04\n",
            "Epoch 9/15\n",
            "\u001b[1m215/215\u001b[0m \u001b[32m━━━━━━━━━━━━━━━━━━━━\u001b[0m\u001b[37m\u001b[0m \u001b[1m5s\u001b[0m 12ms/step - accuracy: 1.0000 - loss: 3.4345e-06 - val_accuracy: 0.7925 - val_loss: 1.3733 - learning_rate: 5.0000e-04\n",
            "Epoch 10/15\n",
            "\u001b[1m215/215\u001b[0m \u001b[32m━━━━━━━━━━━━━━━━━━━━\u001b[0m\u001b[37m\u001b[0m \u001b[1m3s\u001b[0m 12ms/step - accuracy: 1.0000 - loss: 3.1783e-06 - val_accuracy: 0.7914 - val_loss: 1.3812 - learning_rate: 5.0000e-04\n",
            "Epoch 11/15\n",
            "\u001b[1m211/215\u001b[0m \u001b[32m━━━━━━━━━━━━━━━━━━━\u001b[0m\u001b[37m━\u001b[0m \u001b[1m0s\u001b[0m 11ms/step - accuracy: 1.0000 - loss: 2.6902e-06\n",
            "Epoch 11: ReduceLROnPlateau reducing learning rate to 0.0002500000118743628.\n",
            "\u001b[1m215/215\u001b[0m \u001b[32m━━━━━━━━━━━━━━━━━━━━\u001b[0m\u001b[37m\u001b[0m \u001b[1m3s\u001b[0m 12ms/step - accuracy: 1.0000 - loss: 2.6912e-06 - val_accuracy: 0.7888 - val_loss: 1.3871 - learning_rate: 5.0000e-04\n",
            "Epoch 12/15\n",
            "\u001b[1m215/215\u001b[0m \u001b[32m━━━━━━━━━━━━━━━━━━━━\u001b[0m\u001b[37m\u001b[0m \u001b[1m4s\u001b[0m 17ms/step - accuracy: 1.0000 - loss: 2.5585e-06 - val_accuracy: 0.7922 - val_loss: 1.3916 - learning_rate: 2.5000e-04\n",
            "Epoch 13/15\n",
            "\u001b[1m215/215\u001b[0m \u001b[32m━━━━━━━━━━━━━━━━━━━━\u001b[0m\u001b[37m\u001b[0m \u001b[1m3s\u001b[0m 13ms/step - accuracy: 1.0000 - loss: 2.3870e-06 - val_accuracy: 0.7935 - val_loss: 1.3912 - learning_rate: 2.5000e-04\n",
            "Epoch 14/15\n",
            "\u001b[1m215/215\u001b[0m \u001b[32m━━━━━━━━━━━━━━━━━━━━\u001b[0m\u001b[37m\u001b[0m \u001b[1m3s\u001b[0m 12ms/step - accuracy: 1.0000 - loss: 2.2829e-06 - val_accuracy: 0.7929 - val_loss: 1.3996 - learning_rate: 2.5000e-04\n",
            "Epoch 15/15\n",
            "\u001b[1m211/215\u001b[0m \u001b[32m━━━━━━━━━━━━━━━━━━━\u001b[0m\u001b[37m━\u001b[0m \u001b[1m0s\u001b[0m 12ms/step - accuracy: 1.0000 - loss: 2.0351e-06\n",
            "Epoch 15: ReduceLROnPlateau reducing learning rate to 0.0001250000059371814.\n",
            "\u001b[1m215/215\u001b[0m \u001b[32m━━━━━━━━━━━━━━━━━━━━\u001b[0m\u001b[37m\u001b[0m \u001b[1m5s\u001b[0m 13ms/step - accuracy: 1.0000 - loss: 2.0351e-06 - val_accuracy: 0.7920 - val_loss: 1.4042 - learning_rate: 2.5000e-04\n"
          ]
        }
      ]
    },
    {
      "cell_type": "code",
      "source": [
        "print(\"Accuracy of the model is - \" , model.evaluate(x_test, y_test)[1]*100 , \"%\")"
      ],
      "metadata": {
        "execution": {
          "iopub.status.busy": "2021-11-27T18:21:57.215839Z",
          "iopub.execute_input": "2021-11-27T18:21:57.216603Z",
          "iopub.status.idle": "2021-11-27T18:22:02.081567Z",
          "shell.execute_reply.started": "2021-11-27T18:21:57.216563Z",
          "shell.execute_reply": "2021-11-27T18:22:02.079987Z"
        },
        "trusted": true,
        "colab": {
          "base_uri": "https://localhost:8080/"
        },
        "id": "NnkZ6n7EyyOp",
        "outputId": "a913a1cd-13ba-447f-9b10-e0596254e3ea"
      },
      "execution_count": 23,
      "outputs": [
        {
          "output_type": "stream",
          "name": "stdout",
          "text": [
            "\u001b[1m225/225\u001b[0m \u001b[32m━━━━━━━━━━━━━━━━━━━━\u001b[0m\u001b[37m\u001b[0m \u001b[1m1s\u001b[0m 3ms/step - accuracy: 0.7883 - loss: 1.4552\n",
            "Accuracy of the model is -  79.19687628746033 %\n"
          ]
        }
      ]
    },
    {
      "cell_type": "markdown",
      "source": [
        "### 2. Complicating the CNN architecture"
      ],
      "metadata": {
        "id": "hKAk9ib0yyOp"
      }
    },
    {
      "cell_type": "code",
      "source": [
        "model = Sequential()\n",
        "model.add(Conv2D(64, (3,3), strides=1, padding='same', activation='relu', input_shape=(28,28,1)))\n",
        "model.add(BatchNormalization())\n",
        "model.add(MaxPool2D((2,2) , strides = 2 , padding = 'same'))\n",
        "model.add(Conv2D(50 , (3,3) , strides = 1 , padding = 'same' , activation = 'relu'))\n",
        "model.add(Dropout(0.2))\n",
        "model.add(BatchNormalization())\n",
        "model.add(MaxPool2D((2,2) , strides = 2 , padding = 'same'))\n",
        "model.add(Conv2D(25 , (3,3) , strides = 1 , padding = 'same' , activation = 'relu'))\n",
        "model.add(BatchNormalization())\n",
        "model.add(MaxPool2D((2,2) , strides = 2 , padding = 'same'))\n",
        "model.add(Flatten())\n",
        "model.add(Dense(units = 512 , activation = 'relu'))\n",
        "model.add(Dropout(0.3))\n",
        "model.add(Dense(units = 24 , activation = 'softmax'))\n",
        "model.compile(optimizer = 'adam' , loss = 'categorical_crossentropy' , metrics = ['accuracy'])"
      ],
      "metadata": {
        "execution": {
          "iopub.status.busy": "2021-11-27T18:22:02.083401Z",
          "iopub.execute_input": "2021-11-27T18:22:02.083763Z",
          "iopub.status.idle": "2021-11-27T18:22:02.202316Z",
          "shell.execute_reply.started": "2021-11-27T18:22:02.083716Z",
          "shell.execute_reply": "2021-11-27T18:22:02.201421Z"
        },
        "trusted": true,
        "id": "6TSx6M3SyyOp"
      },
      "execution_count": 24,
      "outputs": []
    },
    {
      "cell_type": "code",
      "source": [
        "fitted_values2 = model.fit(x_train, y_train,\n",
        "                          batch_size=128,\n",
        "                          epochs = 5,\n",
        "                          validation_data = (x_test, y_test),\n",
        "                          callbacks = [learning_rate_reduction])"
      ],
      "metadata": {
        "execution": {
          "iopub.status.busy": "2021-11-27T18:22:02.206452Z",
          "iopub.execute_input": "2021-11-27T18:22:02.206721Z",
          "iopub.status.idle": "2021-11-27T18:24:18.791501Z",
          "shell.execute_reply.started": "2021-11-27T18:22:02.206693Z",
          "shell.execute_reply": "2021-11-27T18:24:18.790581Z"
        },
        "trusted": true,
        "colab": {
          "base_uri": "https://localhost:8080/"
        },
        "id": "VIicmgj1yyOp",
        "outputId": "821a96dc-7bc6-4f2b-b6f2-11d7320a34de"
      },
      "execution_count": 25,
      "outputs": [
        {
          "output_type": "stream",
          "name": "stdout",
          "text": [
            "Epoch 1/5\n",
            "\u001b[1m215/215\u001b[0m \u001b[32m━━━━━━━━━━━━━━━━━━━━\u001b[0m\u001b[37m\u001b[0m \u001b[1m15s\u001b[0m 39ms/step - accuracy: 0.6343 - loss: 1.2752 - val_accuracy: 0.1323 - val_loss: 3.1093 - learning_rate: 0.0010\n",
            "Epoch 2/5\n",
            "\u001b[1m215/215\u001b[0m \u001b[32m━━━━━━━━━━━━━━━━━━━━\u001b[0m\u001b[37m\u001b[0m \u001b[1m2s\u001b[0m 7ms/step - accuracy: 0.9936 - loss: 0.0300 - val_accuracy: 0.7359 - val_loss: 0.8228 - learning_rate: 0.0010\n",
            "Epoch 3/5\n",
            "\u001b[1m215/215\u001b[0m \u001b[32m━━━━━━━━━━━━━━━━━━━━\u001b[0m\u001b[37m\u001b[0m \u001b[1m1s\u001b[0m 7ms/step - accuracy: 0.9986 - loss: 0.0080 - val_accuracy: 0.9497 - val_loss: 0.1675 - learning_rate: 0.0010\n",
            "Epoch 4/5\n",
            "\u001b[1m215/215\u001b[0m \u001b[32m━━━━━━━━━━━━━━━━━━━━\u001b[0m\u001b[37m\u001b[0m \u001b[1m3s\u001b[0m 7ms/step - accuracy: 0.9994 - loss: 0.0038 - val_accuracy: 0.9607 - val_loss: 0.1147 - learning_rate: 0.0010\n",
            "Epoch 5/5\n",
            "\u001b[1m215/215\u001b[0m \u001b[32m━━━━━━━━━━━━━━━━━━━━\u001b[0m\u001b[37m\u001b[0m \u001b[1m3s\u001b[0m 7ms/step - accuracy: 0.9995 - loss: 0.0026 - val_accuracy: 0.9525 - val_loss: 0.1720 - learning_rate: 0.0010\n"
          ]
        }
      ]
    },
    {
      "cell_type": "code",
      "source": [
        "print(\"Accuracy of the model is - \" , model.evaluate(x_test, y_test)[1]*100 , \"%\")"
      ],
      "metadata": {
        "execution": {
          "iopub.status.busy": "2021-11-27T18:24:18.793033Z",
          "iopub.execute_input": "2021-11-27T18:24:18.793390Z",
          "iopub.status.idle": "2021-11-27T18:24:21.393281Z",
          "shell.execute_reply.started": "2021-11-27T18:24:18.793356Z",
          "shell.execute_reply": "2021-11-27T18:24:21.392302Z"
        },
        "trusted": true,
        "colab": {
          "base_uri": "https://localhost:8080/"
        },
        "id": "i0AgVaLsyyOp",
        "outputId": "6386e5b1-3e9b-4a53-a384-29dafb06ceec"
      },
      "execution_count": 26,
      "outputs": [
        {
          "output_type": "stream",
          "name": "stdout",
          "text": [
            "\u001b[1m225/225\u001b[0m \u001b[32m━━━━━━━━━━━━━━━━━━━━\u001b[0m\u001b[37m\u001b[0m \u001b[1m1s\u001b[0m 2ms/step - accuracy: 0.9495 - loss: 0.1802\n",
            "Accuracy of the model is -  95.24539709091187 %\n"
          ]
        }
      ]
    },
    {
      "cell_type": "markdown",
      "source": [
        "### 3. Sophisticated CNN + Data Augmentation architecture"
      ],
      "metadata": {
        "id": "s6TuF4ocyyOp"
      }
    },
    {
      "cell_type": "code",
      "source": [
        "image_generator = ImageDataGenerator(\n",
        "    featurewise_center=False,  # настроить нормировку\n",
        "    samplewise_center=False,  # настроить нормировку\n",
        "    featurewise_std_normalization=False,  # настроить стандартизацию\n",
        "    samplewise_std_normalization=False,  # настроить стандартизацию\n",
        "    zca_whitening=False,  # применить высветление\n",
        "    rotation_range=10,  # задать угол случайного поворота изображения\n",
        "    zoom_range = 0.1, # задать zoom\n",
        "    width_shift_range=0.1,  # задать сдвиг как долю от всей ширины изображения\n",
        "    height_shift_range=0.1,  # задать сдвиг как долю от всей высоты изображения\n",
        "    horizontal_flip=False,  # задать случайное зеркальное отображение\n",
        "    vertical_flip=False)  # задать случайное зеркальное отображение\n",
        "\n",
        "\n",
        "image_generator.fit(x_train)"
      ],
      "metadata": {
        "execution": {
          "iopub.status.busy": "2021-11-27T18:24:21.394537Z",
          "iopub.execute_input": "2021-11-27T18:24:21.394781Z",
          "iopub.status.idle": "2021-11-27T18:24:21.480990Z",
          "shell.execute_reply.started": "2021-11-27T18:24:21.394752Z",
          "shell.execute_reply": "2021-11-27T18:24:21.479921Z"
        },
        "trusted": true,
        "id": "txetdS20yyOq"
      },
      "execution_count": 27,
      "outputs": []
    },
    {
      "cell_type": "code",
      "source": [
        "fitted_values3 = model.fit(image_generator.flow(x_train,y_train, batch_size = 128) ,\n",
        "                    epochs = 15,\n",
        "                    validation_data = (x_test, y_test) ,\n",
        "                    callbacks = [learning_rate_reduction])"
      ],
      "metadata": {
        "execution": {
          "iopub.status.busy": "2021-11-27T18:24:21.482176Z",
          "iopub.execute_input": "2021-11-27T18:24:21.482500Z",
          "iopub.status.idle": "2021-11-27T18:27:13.482861Z",
          "shell.execute_reply.started": "2021-11-27T18:24:21.482466Z",
          "shell.execute_reply": "2021-11-27T18:27:13.481835Z"
        },
        "trusted": true,
        "colab": {
          "base_uri": "https://localhost:8080/"
        },
        "id": "_ANGp64HyyOq",
        "outputId": "eae2823a-de07-4898-a4c7-7f00c41771e9"
      },
      "execution_count": 29,
      "outputs": [
        {
          "output_type": "stream",
          "name": "stdout",
          "text": [
            "Epoch 1/15\n",
            "\u001b[1m215/215\u001b[0m \u001b[32m━━━━━━━━━━━━━━━━━━━━\u001b[0m\u001b[37m\u001b[0m \u001b[1m11s\u001b[0m 49ms/step - accuracy: 0.9703 - loss: 0.0886 - val_accuracy: 0.9664 - val_loss: 0.0805 - learning_rate: 0.0010\n",
            "Epoch 2/15\n",
            "\u001b[1m215/215\u001b[0m \u001b[32m━━━━━━━━━━━━━━━━━━━━\u001b[0m\u001b[37m\u001b[0m \u001b[1m21s\u001b[0m 52ms/step - accuracy: 0.9805 - loss: 0.0556 - val_accuracy: 0.9827 - val_loss: 0.0556 - learning_rate: 0.0010\n",
            "Epoch 3/15\n",
            "\u001b[1m215/215\u001b[0m \u001b[32m━━━━━━━━━━━━━━━━━━━━\u001b[0m\u001b[37m\u001b[0m \u001b[1m11s\u001b[0m 48ms/step - accuracy: 0.9873 - loss: 0.0382 - val_accuracy: 0.9976 - val_loss: 0.0098 - learning_rate: 0.0010\n",
            "Epoch 4/15\n",
            "\u001b[1m215/215\u001b[0m \u001b[32m━━━━━━━━━━━━━━━━━━━━\u001b[0m\u001b[37m\u001b[0m \u001b[1m23s\u001b[0m 60ms/step - accuracy: 0.9921 - loss: 0.0244 - val_accuracy: 0.9717 - val_loss: 0.0627 - learning_rate: 0.0010\n",
            "Epoch 5/15\n",
            "\u001b[1m215/215\u001b[0m \u001b[32m━━━━━━━━━━━━━━━━━━━━\u001b[0m\u001b[37m\u001b[0m \u001b[1m0s\u001b[0m 52ms/step - accuracy: 0.9906 - loss: 0.0277\n",
            "Epoch 5: ReduceLROnPlateau reducing learning rate to 0.0005000000237487257.\n",
            "\u001b[1m215/215\u001b[0m \u001b[32m━━━━━━━━━━━━━━━━━━━━\u001b[0m\u001b[37m\u001b[0m \u001b[1m12s\u001b[0m 55ms/step - accuracy: 0.9906 - loss: 0.0277 - val_accuracy: 0.9650 - val_loss: 0.0963 - learning_rate: 0.0010\n",
            "Epoch 6/15\n",
            "\u001b[1m215/215\u001b[0m \u001b[32m━━━━━━━━━━━━━━━━━━━━\u001b[0m\u001b[37m\u001b[0m \u001b[1m12s\u001b[0m 53ms/step - accuracy: 0.9960 - loss: 0.0153 - val_accuracy: 1.0000 - val_loss: 0.0020 - learning_rate: 5.0000e-04\n",
            "Epoch 7/15\n",
            "\u001b[1m215/215\u001b[0m \u001b[32m━━━━━━━━━━━━━━━━━━━━\u001b[0m\u001b[37m\u001b[0m \u001b[1m11s\u001b[0m 49ms/step - accuracy: 0.9973 - loss: 0.0093 - val_accuracy: 0.9987 - val_loss: 0.0034 - learning_rate: 5.0000e-04\n",
            "Epoch 8/15\n",
            "\u001b[1m215/215\u001b[0m \u001b[32m━━━━━━━━━━━━━━━━━━━━\u001b[0m\u001b[37m\u001b[0m \u001b[1m0s\u001b[0m 46ms/step - accuracy: 0.9971 - loss: 0.0101\n",
            "Epoch 8: ReduceLROnPlateau reducing learning rate to 0.0002500000118743628.\n",
            "\u001b[1m215/215\u001b[0m \u001b[32m━━━━━━━━━━━━━━━━━━━━\u001b[0m\u001b[37m\u001b[0m \u001b[1m20s\u001b[0m 47ms/step - accuracy: 0.9971 - loss: 0.0101 - val_accuracy: 0.9964 - val_loss: 0.0096 - learning_rate: 5.0000e-04\n",
            "Epoch 9/15\n",
            "\u001b[1m215/215\u001b[0m \u001b[32m━━━━━━━━━━━━━━━━━━━━\u001b[0m\u001b[37m\u001b[0m \u001b[1m12s\u001b[0m 55ms/step - accuracy: 0.9973 - loss: 0.0087 - val_accuracy: 1.0000 - val_loss: 7.0125e-04 - learning_rate: 2.5000e-04\n",
            "Epoch 10/15\n",
            "\u001b[1m214/215\u001b[0m \u001b[32m━━━━━━━━━━━━━━━━━━━\u001b[0m\u001b[37m━\u001b[0m \u001b[1m0s\u001b[0m 44ms/step - accuracy: 0.9981 - loss: 0.0057\n",
            "Epoch 10: ReduceLROnPlateau reducing learning rate to 0.0001250000059371814.\n",
            "\u001b[1m215/215\u001b[0m \u001b[32m━━━━━━━━━━━━━━━━━━━━\u001b[0m\u001b[37m\u001b[0m \u001b[1m19s\u001b[0m 47ms/step - accuracy: 0.9981 - loss: 0.0057 - val_accuracy: 1.0000 - val_loss: 2.8850e-04 - learning_rate: 2.5000e-04\n",
            "Epoch 11/15\n",
            "\u001b[1m215/215\u001b[0m \u001b[32m━━━━━━━━━━━━━━━━━━━━\u001b[0m\u001b[37m\u001b[0m \u001b[1m9s\u001b[0m 42ms/step - accuracy: 0.9983 - loss: 0.0054 - val_accuracy: 1.0000 - val_loss: 3.7773e-04 - learning_rate: 1.2500e-04\n",
            "Epoch 12/15\n",
            "\u001b[1m215/215\u001b[0m \u001b[32m━━━━━━━━━━━━━━━━━━━━\u001b[0m\u001b[37m\u001b[0m \u001b[1m0s\u001b[0m 44ms/step - accuracy: 0.9990 - loss: 0.0042\n",
            "Epoch 12: ReduceLROnPlateau reducing learning rate to 6.25000029685907e-05.\n",
            "\u001b[1m215/215\u001b[0m \u001b[32m━━━━━━━━━━━━━━━━━━━━\u001b[0m\u001b[37m\u001b[0m \u001b[1m11s\u001b[0m 47ms/step - accuracy: 0.9990 - loss: 0.0042 - val_accuracy: 1.0000 - val_loss: 3.6531e-04 - learning_rate: 1.2500e-04\n",
            "Epoch 13/15\n",
            "\u001b[1m215/215\u001b[0m \u001b[32m━━━━━━━━━━━━━━━━━━━━\u001b[0m\u001b[37m\u001b[0m \u001b[1m10s\u001b[0m 48ms/step - accuracy: 0.9989 - loss: 0.0047 - val_accuracy: 1.0000 - val_loss: 2.2582e-04 - learning_rate: 6.2500e-05\n",
            "Epoch 14/15\n",
            "\u001b[1m215/215\u001b[0m \u001b[32m━━━━━━━━━━━━━━━━━━━━\u001b[0m\u001b[37m\u001b[0m \u001b[1m0s\u001b[0m 46ms/step - accuracy: 0.9990 - loss: 0.0047\n",
            "Epoch 14: ReduceLROnPlateau reducing learning rate to 3.125000148429535e-05.\n",
            "\u001b[1m215/215\u001b[0m \u001b[32m━━━━━━━━━━━━━━━━━━━━\u001b[0m\u001b[37m\u001b[0m \u001b[1m21s\u001b[0m 49ms/step - accuracy: 0.9990 - loss: 0.0047 - val_accuracy: 1.0000 - val_loss: 2.8105e-04 - learning_rate: 6.2500e-05\n",
            "Epoch 15/15\n",
            "\u001b[1m215/215\u001b[0m \u001b[32m━━━━━━━━━━━━━━━━━━━━\u001b[0m\u001b[37m\u001b[0m \u001b[1m10s\u001b[0m 45ms/step - accuracy: 0.9990 - loss: 0.0039 - val_accuracy: 1.0000 - val_loss: 2.4394e-04 - learning_rate: 3.1250e-05\n"
          ]
        }
      ]
    },
    {
      "cell_type": "code",
      "source": [
        "print(\"Accuracy of the model with data augmentation is - \" , model.evaluate(x_test,y_test)[1]*100 , \"%\")"
      ],
      "metadata": {
        "execution": {
          "iopub.status.busy": "2021-11-27T18:27:13.484680Z",
          "iopub.execute_input": "2021-11-27T18:27:13.485023Z",
          "iopub.status.idle": "2021-11-27T18:27:16.122227Z",
          "shell.execute_reply.started": "2021-11-27T18:27:13.484978Z",
          "shell.execute_reply": "2021-11-27T18:27:16.121035Z"
        },
        "trusted": true,
        "colab": {
          "base_uri": "https://localhost:8080/"
        },
        "id": "Vgt-X6ASyyOq",
        "outputId": "02be2970-31f3-4bf6-d031-573f12e540ab"
      },
      "execution_count": 30,
      "outputs": [
        {
          "output_type": "stream",
          "name": "stdout",
          "text": [
            "\u001b[1m225/225\u001b[0m \u001b[32m━━━━━━━━━━━━━━━━━━━━\u001b[0m\u001b[37m\u001b[0m \u001b[1m1s\u001b[0m 2ms/step - accuracy: 1.0000 - loss: 2.2576e-04\n",
            "Accuracy of the model with data augmentation is -  100.0 %\n"
          ]
        }
      ]
    },
    {
      "cell_type": "markdown",
      "source": [
        "### 4. Final validation of the CNN model"
      ],
      "metadata": {
        "id": "s51CblgByyOq"
      }
    },
    {
      "cell_type": "code",
      "source": [
        "model = Sequential()\n",
        "model.add(Conv2D(64, (3,3), strides=1, padding='same', activation='relu', input_shape=(28,28,1)))\n",
        "model.add(BatchNormalization())\n",
        "model.add(MaxPool2D((2,2) , strides = 2 , padding = 'same'))\n",
        "model.add(Conv2D(50 , (3,3) , strides = 1 , padding = 'same' , activation = 'relu'))\n",
        "model.add(Dropout(0.2))\n",
        "model.add(BatchNormalization())\n",
        "model.add(MaxPool2D((2,2) , strides = 2 , padding = 'same'))\n",
        "model.add(Conv2D(25 , (3,3) , strides = 1 , padding = 'same' , activation = 'relu'))\n",
        "model.add(BatchNormalization())\n",
        "model.add(MaxPool2D((2,2) , strides = 2 , padding = 'same'))\n",
        "model.add(Flatten())\n",
        "model.add(Dense(units = 512 , activation = 'relu'))\n",
        "model.add(Dense(units = 24 , activation = 'softmax'))\n",
        "model.compile(optimizer = 'adam' , loss = 'categorical_crossentropy' , metrics = ['accuracy'])"
      ],
      "metadata": {
        "execution": {
          "iopub.status.busy": "2021-11-27T18:27:16.244959Z",
          "iopub.execute_input": "2021-11-27T18:27:16.245401Z",
          "iopub.status.idle": "2021-11-27T18:27:16.364615Z",
          "shell.execute_reply.started": "2021-11-27T18:27:16.245365Z",
          "shell.execute_reply": "2021-11-27T18:27:16.363921Z"
        },
        "trusted": true,
        "id": "qRXvJSf5yyOq"
      },
      "execution_count": 31,
      "outputs": []
    },
    {
      "cell_type": "code",
      "source": [
        "fitted_values4 = model.fit(image_generator.flow(x_train,y_train, batch_size = 128),\n",
        "                           epochs = 20,\n",
        "                           validation_data = (x_test, y_test) ,\n",
        "                           callbacks = [learning_rate_reduction])"
      ],
      "metadata": {
        "execution": {
          "iopub.status.busy": "2021-11-27T18:27:16.366074Z",
          "iopub.execute_input": "2021-11-27T18:27:16.366534Z",
          "iopub.status.idle": "2021-11-27T18:38:33.625268Z",
          "shell.execute_reply.started": "2021-11-27T18:27:16.366475Z",
          "shell.execute_reply": "2021-11-27T18:38:33.624128Z"
        },
        "trusted": true,
        "colab": {
          "base_uri": "https://localhost:8080/"
        },
        "id": "NwbiVKh5yyOq",
        "outputId": "c773b64a-3b91-49fc-a6b3-266735824724"
      },
      "execution_count": 32,
      "outputs": [
        {
          "output_type": "stream",
          "name": "stdout",
          "text": [
            "Epoch 1/20\n",
            "\u001b[1m215/215\u001b[0m \u001b[32m━━━━━━━━━━━━━━━━━━━━\u001b[0m\u001b[37m\u001b[0m \u001b[1m19s\u001b[0m 64ms/step - accuracy: 0.5541 - loss: 1.5117 - val_accuracy: 0.1892 - val_loss: 2.9820 - learning_rate: 0.0010\n",
            "Epoch 2/20\n",
            "\u001b[1m215/215\u001b[0m \u001b[32m━━━━━━━━━━━━━━━━━━━━\u001b[0m\u001b[37m\u001b[0m \u001b[1m11s\u001b[0m 49ms/step - accuracy: 0.9513 - loss: 0.1549 - val_accuracy: 0.5047 - val_loss: 1.4751 - learning_rate: 0.0010\n",
            "Epoch 3/20\n",
            "\u001b[1m215/215\u001b[0m \u001b[32m━━━━━━━━━━━━━━━━━━━━\u001b[0m\u001b[37m\u001b[0m \u001b[1m20s\u001b[0m 45ms/step - accuracy: 0.9778 - loss: 0.0688 - val_accuracy: 0.9668 - val_loss: 0.1004 - learning_rate: 0.0010\n",
            "Epoch 4/20\n",
            "\u001b[1m215/215\u001b[0m \u001b[32m━━━━━━━━━━━━━━━━━━━━\u001b[0m\u001b[37m\u001b[0m \u001b[1m10s\u001b[0m 45ms/step - accuracy: 0.9814 - loss: 0.0571 - val_accuracy: 0.9941 - val_loss: 0.0245 - learning_rate: 0.0010\n",
            "Epoch 5/20\n",
            "\u001b[1m215/215\u001b[0m \u001b[32m━━━━━━━━━━━━━━━━━━━━\u001b[0m\u001b[37m\u001b[0m \u001b[1m11s\u001b[0m 48ms/step - accuracy: 0.9889 - loss: 0.0352 - val_accuracy: 0.9618 - val_loss: 0.1009 - learning_rate: 0.0010\n",
            "Epoch 6/20\n",
            "\u001b[1m210/215\u001b[0m \u001b[32m━━━━━━━━━━━━━━━━━━━\u001b[0m\u001b[37m━\u001b[0m \u001b[1m0s\u001b[0m 46ms/step - accuracy: 0.9914 - loss: 0.0262\n",
            "Epoch 6: ReduceLROnPlateau reducing learning rate to 0.0005000000237487257.\n",
            "\u001b[1m215/215\u001b[0m \u001b[32m━━━━━━━━━━━━━━━━━━━━\u001b[0m\u001b[37m\u001b[0m \u001b[1m20s\u001b[0m 48ms/step - accuracy: 0.9915 - loss: 0.0261 - val_accuracy: 0.9651 - val_loss: 0.1063 - learning_rate: 0.0010\n",
            "Epoch 7/20\n",
            "\u001b[1m215/215\u001b[0m \u001b[32m━━━━━━━━━━━━━━━━━━━━\u001b[0m\u001b[37m\u001b[0m \u001b[1m10s\u001b[0m 47ms/step - accuracy: 0.9972 - loss: 0.0103 - val_accuracy: 0.9982 - val_loss: 0.0051 - learning_rate: 5.0000e-04\n",
            "Epoch 8/20\n",
            "\u001b[1m215/215\u001b[0m \u001b[32m━━━━━━━━━━━━━━━━━━━━\u001b[0m\u001b[37m\u001b[0m \u001b[1m20s\u001b[0m 45ms/step - accuracy: 0.9979 - loss: 0.0076 - val_accuracy: 0.9957 - val_loss: 0.0103 - learning_rate: 5.0000e-04\n",
            "Epoch 9/20\n",
            "\u001b[1m215/215\u001b[0m \u001b[32m━━━━━━━━━━━━━━━━━━━━\u001b[0m\u001b[37m\u001b[0m \u001b[1m0s\u001b[0m 45ms/step - accuracy: 0.9976 - loss: 0.0086\n",
            "Epoch 9: ReduceLROnPlateau reducing learning rate to 0.0002500000118743628.\n",
            "\u001b[1m215/215\u001b[0m \u001b[32m━━━━━━━━━━━━━━━━━━━━\u001b[0m\u001b[37m\u001b[0m \u001b[1m10s\u001b[0m 47ms/step - accuracy: 0.9976 - loss: 0.0086 - val_accuracy: 0.9982 - val_loss: 0.0091 - learning_rate: 5.0000e-04\n",
            "Epoch 10/20\n",
            "\u001b[1m215/215\u001b[0m \u001b[32m━━━━━━━━━━━━━━━━━━━━\u001b[0m\u001b[37m\u001b[0m \u001b[1m21s\u001b[0m 49ms/step - accuracy: 0.9985 - loss: 0.0055 - val_accuracy: 0.9975 - val_loss: 0.0045 - learning_rate: 2.5000e-04\n",
            "Epoch 11/20\n",
            "\u001b[1m214/215\u001b[0m \u001b[32m━━━━━━━━━━━━━━━━━━━\u001b[0m\u001b[37m━\u001b[0m \u001b[1m0s\u001b[0m 43ms/step - accuracy: 0.9992 - loss: 0.0034\n",
            "Epoch 11: ReduceLROnPlateau reducing learning rate to 0.0001250000059371814.\n",
            "\u001b[1m215/215\u001b[0m \u001b[32m━━━━━━━━━━━━━━━━━━━━\u001b[0m\u001b[37m\u001b[0m \u001b[1m10s\u001b[0m 46ms/step - accuracy: 0.9992 - loss: 0.0034 - val_accuracy: 0.9971 - val_loss: 0.0054 - learning_rate: 2.5000e-04\n",
            "Epoch 12/20\n",
            "\u001b[1m215/215\u001b[0m \u001b[32m━━━━━━━━━━━━━━━━━━━━\u001b[0m\u001b[37m\u001b[0m \u001b[1m9s\u001b[0m 42ms/step - accuracy: 0.9989 - loss: 0.0043 - val_accuracy: 0.9972 - val_loss: 0.0059 - learning_rate: 1.2500e-04\n",
            "Epoch 13/20\n",
            "\u001b[1m209/215\u001b[0m \u001b[32m━━━━━━━━━━━━━━━━━━━\u001b[0m\u001b[37m━\u001b[0m \u001b[1m0s\u001b[0m 46ms/step - accuracy: 0.9997 - loss: 0.0029\n",
            "Epoch 13: ReduceLROnPlateau reducing learning rate to 6.25000029685907e-05.\n",
            "\u001b[1m215/215\u001b[0m \u001b[32m━━━━━━━━━━━━━━━━━━━━\u001b[0m\u001b[37m\u001b[0m \u001b[1m11s\u001b[0m 47ms/step - accuracy: 0.9997 - loss: 0.0029 - val_accuracy: 0.9972 - val_loss: 0.0061 - learning_rate: 1.2500e-04\n",
            "Epoch 14/20\n",
            "\u001b[1m215/215\u001b[0m \u001b[32m━━━━━━━━━━━━━━━━━━━━\u001b[0m\u001b[37m\u001b[0m \u001b[1m11s\u001b[0m 48ms/step - accuracy: 0.9995 - loss: 0.0031 - val_accuracy: 0.9972 - val_loss: 0.0072 - learning_rate: 6.2500e-05\n",
            "Epoch 15/20\n",
            "\u001b[1m215/215\u001b[0m \u001b[32m━━━━━━━━━━━━━━━━━━━━\u001b[0m\u001b[37m\u001b[0m \u001b[1m0s\u001b[0m 46ms/step - accuracy: 0.9996 - loss: 0.0025\n",
            "Epoch 15: ReduceLROnPlateau reducing learning rate to 3.125000148429535e-05.\n",
            "\u001b[1m215/215\u001b[0m \u001b[32m━━━━━━━━━━━━━━━━━━━━\u001b[0m\u001b[37m\u001b[0m \u001b[1m10s\u001b[0m 48ms/step - accuracy: 0.9996 - loss: 0.0024 - val_accuracy: 0.9972 - val_loss: 0.0054 - learning_rate: 6.2500e-05\n",
            "Epoch 16/20\n",
            "\u001b[1m215/215\u001b[0m \u001b[32m━━━━━━━━━━━━━━━━━━━━\u001b[0m\u001b[37m\u001b[0m \u001b[1m11s\u001b[0m 48ms/step - accuracy: 0.9997 - loss: 0.0020 - val_accuracy: 0.9972 - val_loss: 0.0055 - learning_rate: 3.1250e-05\n",
            "Epoch 17/20\n",
            "\u001b[1m210/215\u001b[0m \u001b[32m━━━━━━━━━━━━━━━━━━━\u001b[0m\u001b[37m━\u001b[0m \u001b[1m0s\u001b[0m 44ms/step - accuracy: 0.9994 - loss: 0.0025\n",
            "Epoch 17: ReduceLROnPlateau reducing learning rate to 1.5625000742147677e-05.\n",
            "\u001b[1m215/215\u001b[0m \u001b[32m━━━━━━━━━━━━━━━━━━━━\u001b[0m\u001b[37m\u001b[0m \u001b[1m20s\u001b[0m 46ms/step - accuracy: 0.9994 - loss: 0.0025 - val_accuracy: 0.9972 - val_loss: 0.0048 - learning_rate: 3.1250e-05\n",
            "Epoch 18/20\n",
            "\u001b[1m215/215\u001b[0m \u001b[32m━━━━━━━━━━━━━━━━━━━━\u001b[0m\u001b[37m\u001b[0m \u001b[1m10s\u001b[0m 47ms/step - accuracy: 0.9996 - loss: 0.0023 - val_accuracy: 0.9974 - val_loss: 0.0054 - learning_rate: 1.5625e-05\n",
            "Epoch 19/20\n",
            "\u001b[1m215/215\u001b[0m \u001b[32m━━━━━━━━━━━━━━━━━━━━\u001b[0m\u001b[37m\u001b[0m \u001b[1m0s\u001b[0m 46ms/step - accuracy: 0.9998 - loss: 0.0019\n",
            "Epoch 19: ReduceLROnPlateau reducing learning rate to 1e-05.\n",
            "\u001b[1m215/215\u001b[0m \u001b[32m━━━━━━━━━━━━━━━━━━━━\u001b[0m\u001b[37m\u001b[0m \u001b[1m21s\u001b[0m 48ms/step - accuracy: 0.9998 - loss: 0.0019 - val_accuracy: 0.9972 - val_loss: 0.0058 - learning_rate: 1.5625e-05\n",
            "Epoch 20/20\n",
            "\u001b[1m215/215\u001b[0m \u001b[32m━━━━━━━━━━━━━━━━━━━━\u001b[0m\u001b[37m\u001b[0m \u001b[1m19s\u001b[0m 42ms/step - accuracy: 0.9995 - loss: 0.0021 - val_accuracy: 0.9972 - val_loss: 0.0057 - learning_rate: 1.0000e-05\n"
          ]
        }
      ]
    },
    {
      "cell_type": "code",
      "source": [
        "print(\"Accuracy of the model with data augmentation is  - \" , model.evaluate(x_test, y_test)[1]*100 , \"%\")"
      ],
      "metadata": {
        "execution": {
          "iopub.status.busy": "2021-11-27T18:38:33.627176Z",
          "iopub.execute_input": "2021-11-27T18:38:33.627539Z",
          "iopub.status.idle": "2021-11-27T18:38:36.202913Z",
          "shell.execute_reply.started": "2021-11-27T18:38:33.627477Z",
          "shell.execute_reply": "2021-11-27T18:38:36.202138Z"
        },
        "trusted": true,
        "colab": {
          "base_uri": "https://localhost:8080/"
        },
        "id": "u2WxDIlSyyOq",
        "outputId": "aaace875-bdf0-4169-bfa2-18226d58c62c"
      },
      "execution_count": 33,
      "outputs": [
        {
          "output_type": "stream",
          "name": "stdout",
          "text": [
            "\u001b[1m225/225\u001b[0m \u001b[32m━━━━━━━━━━━━━━━━━━━━\u001b[0m\u001b[37m\u001b[0m \u001b[1m0s\u001b[0m 2ms/step - accuracy: 0.9970 - loss: 0.0063\n",
            "Accuracy of the model with data augmentation is  -  99.72113966941833 %\n"
          ]
        }
      ]
    },
    {
      "cell_type": "markdown",
      "source": [
        "### Analysis of the results obtained"
      ],
      "metadata": {
        "id": "YAALGyyEyyOq"
      }
    },
    {
      "cell_type": "code",
      "source": [
        "epochs = [i for i in range(20)]\n",
        "fig , ax = plt.subplots(1,2)\n",
        "train_acc = fitted_values4.history['accuracy']\n",
        "train_loss = fitted_values4.history['loss']\n",
        "val_acc = fitted_values4.history['val_accuracy']\n",
        "val_loss = fitted_values4.history['val_loss']\n",
        "fig.set_size_inches(16,9)\n",
        "\n",
        "ax[0].plot(epochs , train_acc , 'go-' , label = 'Training Accuracy')\n",
        "ax[0].plot(epochs , val_acc , 'ro-' , label = 'Testing Accuracy')\n",
        "ax[0].set_title('Training & Validation Accuracy')\n",
        "ax[0].legend()\n",
        "ax[0].set_xlabel(\"Epochs\")\n",
        "ax[0].set_ylabel(\"Accuracy\")\n",
        "\n",
        "ax[1].plot(epochs , train_loss , 'g-o' , label = 'Training Loss')\n",
        "ax[1].plot(epochs , val_loss , 'r-o' , label = 'Testing Loss')\n",
        "ax[1].set_title('Testing Accuracy & Loss')\n",
        "ax[1].legend()\n",
        "ax[1].set_xlabel(\"Epochs\")\n",
        "ax[1].set_ylabel(\"Loss\")\n",
        "plt.show()"
      ],
      "metadata": {
        "execution": {
          "iopub.status.busy": "2021-11-27T18:51:30.705031Z",
          "iopub.execute_input": "2021-11-27T18:51:30.705353Z",
          "iopub.status.idle": "2021-11-27T18:51:31.131217Z",
          "shell.execute_reply.started": "2021-11-27T18:51:30.705317Z",
          "shell.execute_reply": "2021-11-27T18:51:31.130226Z"
        },
        "trusted": true,
        "colab": {
          "base_uri": "https://localhost:8080/",
          "height": 677
        },
        "id": "_VXje4QGyyOq",
        "outputId": "f641c61c-9588-461c-dc02-a3709da47803"
      },
      "execution_count": 34,
      "outputs": [
        {
          "output_type": "display_data",
          "data": {
            "text/plain": [
              "<Figure size 1600x900 with 2 Axes>"
            ],
            "image/png": "[encoded data removed]"
          },
          "metadata": {}
        }
      ]
    },
    {
      "cell_type": "code",
      "source": [
        "predictions = model.predict(x_test)"
      ],
      "metadata": {
        "execution": {
          "iopub.status.busy": "2021-11-27T18:54:10.758772Z",
          "iopub.execute_input": "2021-11-27T18:54:10.759317Z",
          "iopub.status.idle": "2021-11-27T18:54:13.021481Z",
          "shell.execute_reply.started": "2021-11-27T18:54:10.759280Z",
          "shell.execute_reply": "2021-11-27T18:54:13.020822Z"
        },
        "trusted": true,
        "colab": {
          "base_uri": "https://localhost:8080/"
        },
        "id": "7Vhlkvg1yyOq",
        "outputId": "ed3016bf-ece9-4bef-ba0d-d21b3509383a"
      },
      "execution_count": 35,
      "outputs": [
        {
          "output_type": "stream",
          "name": "stdout",
          "text": [
            "\u001b[1m225/225\u001b[0m \u001b[32m━━━━━━━━━━━━━━━━━━━━\u001b[0m\u001b[37m\u001b[0m \u001b[1m1s\u001b[0m 4ms/step\n"
          ]
        }
      ]
    },
    {
      "cell_type": "code",
      "source": [
        "model.save(\"sign_language_cnn_model.keras\")"
      ],
      "metadata": {
        "execution": {
          "iopub.status.busy": "2021-11-27T18:59:12.623901Z",
          "iopub.execute_input": "2021-11-27T18:59:12.624192Z",
          "iopub.status.idle": "2021-11-27T18:59:14.896366Z",
          "shell.execute_reply.started": "2021-11-27T18:59:12.624163Z",
          "shell.execute_reply": "2021-11-27T18:59:14.895359Z"
        },
        "trusted": true,
        "id": "4RNKXMyFyyOr"
      },
      "execution_count": 37,
      "outputs": []
    }
  ]
}